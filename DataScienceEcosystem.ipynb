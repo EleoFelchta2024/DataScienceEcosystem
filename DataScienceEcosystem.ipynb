{
 "cells": [
  {
   "cell_type": "markdown",
   "id": "d59ac3d7-cea6-4599-a7c8-a640b0a472ac",
   "metadata": {},
   "source": [
    "# Data Science Tools and Ecosystem"
   ]
  },
  {
   "cell_type": "markdown",
   "id": "693f9665-730f-4386-9285-eb7c0a6ea403",
   "metadata": {},
   "source": [
    "In this notebook, Data Science Tools and Ecosystem are summarized."
   ]
  },
  {
   "cell_type": "markdown",
   "id": "b2cb449d-9dda-41fa-9f65-a8156dab94a0",
   "metadata": {},
   "source": [
    "**Objectives**\n",
    "- List popular languages for Data Scientists\n",
    "- List commonly used libraries in data science\n",
    "- Table indicating development environment open source tools used in data science\n",
    "- Examples of evaluating arithmetic expressions in Python"
   ]
  },
  {
   "cell_type": "markdown",
   "id": "621627d3-f625-4683-89eb-ccb2ece11947",
   "metadata": {},
   "source": [
    "Some of the popular languages that Data Scientists use are:\n",
    "1. Python\n",
    "2. R\n",
    "3. Julia"
   ]
  },
  {
   "cell_type": "markdown",
   "id": "619c2e8e-6786-45a4-87b2-2618cf486a6f",
   "metadata": {},
   "source": [
    "Some of the commonly used libraries used by Data Scientists include:\n",
    "1. Pandas\n",
    "2. NumPy\n",
    "3. Matplotlib"
   ]
  },
  {
   "cell_type": "markdown",
   "id": "48b06121-5b5b-4384-8f16-d413239335bf",
   "metadata": {},
   "source": [
    "| Data Science Tools |\n",
    "|------|\n",
    "| Jupyter |\n",
    "| Jupyterlab |\n",
    "| R Studio |"
   ]
  },
  {
   "cell_type": "markdown",
   "id": "bd3e45e5-5409-4c3e-b4f3-087ee2b20fca",
   "metadata": {},
   "source": [
    "### Below are a few examples of evaluating arithmetic expressions in Python."
   ]
  },
  {
   "cell_type": "code",
   "execution_count": 1,
   "id": "225e02f8-de46-4d99-9dc0-496084c5ac8c",
   "metadata": {},
   "outputs": [
    {
     "data": {
      "text/plain": [
       "17"
      ]
     },
     "execution_count": 1,
     "metadata": {},
     "output_type": "execute_result"
    }
   ],
   "source": [
    "# This is a simple arithmetic expression to multiply then add integers.\n",
    "(3*4)+5"
   ]
  },
  {
   "cell_type": "code",
   "execution_count": 5,
   "id": "046aff70-47d0-4df1-b26f-a4ebede038e8",
   "metadata": {},
   "outputs": [
    {
     "data": {
      "text/plain": [
       "3.3333333333333335"
      ]
     },
     "execution_count": 5,
     "metadata": {},
     "output_type": "execute_result"
    }
   ],
   "source": [
    "# This will convert 200 minutes to hours by dividing by 60.\n",
    "200/60"
   ]
  },
  {
   "cell_type": "markdown",
   "id": "4ec8abbe-da8f-4fcf-99e6-c815798defdc",
   "metadata": {},
   "source": [
    "## Author\n",
    "Eleonora Leppert"
   ]
  }
 ],
 "metadata": {
  "kernelspec": {
   "display_name": "Python 3 (ipykernel)",
   "language": "python",
   "name": "python3"
  },
  "language_info": {
   "codemirror_mode": {
    "name": "ipython",
    "version": 3
   },
   "file_extension": ".py",
   "mimetype": "text/x-python",
   "name": "python",
   "nbconvert_exporter": "python",
   "pygments_lexer": "ipython3",
   "version": "3.11.7"
  }
 },
 "nbformat": 4,
 "nbformat_minor": 5
}
